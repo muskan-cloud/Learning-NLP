{
  "nbformat": 4,
  "nbformat_minor": 0,
  "metadata": {
    "colab": {
      "provenance": [],
      "authorship_tag": "ABX9TyO1t6JEz53Z9aenCi7avtRK",
      "include_colab_link": true
    },
    "kernelspec": {
      "name": "python3",
      "display_name": "Python 3"
    },
    "language_info": {
      "name": "python"
    }
  },
  "cells": [
    {
      "cell_type": "markdown",
      "metadata": {
        "id": "view-in-github",
        "colab_type": "text"
      },
      "source": [
        "<a href=\"https://colab.research.google.com/github/muskan-cloud/Learning-NLP/blob/main/regex_NLP.ipynb\" target=\"_parent\"><img src=\"https://colab.research.google.com/assets/colab-badge.svg\" alt=\"Open In Colab\"/></a>"
      ]
    },
    {
      "cell_type": "code",
      "execution_count": null,
      "metadata": {
        "id": "lhXoY2G4dr59"
      },
      "outputs": [],
      "source": [
        "import re"
      ]
    },
    {
      "cell_type": "code",
      "source": [
        "chat_1 = \"My name is Muskan and my order number is #12345567\"\n",
        "chat_2 = \"here it is (123)-456-9845\"\n",
        "chat_3 = \"phone : 8888888888, email : 89muskan_wa@om.boj\""
      ],
      "metadata": {
        "id": "8en50YongfYa"
      },
      "execution_count": null,
      "outputs": []
    },
    {
      "cell_type": "code",
      "source": [
        "pattern_1 = '\\d{10}'\n",
        "matches = re.findall(pattern_1,chat_3)\n",
        "matches"
      ],
      "metadata": {
        "colab": {
          "base_uri": "https://localhost:8080/"
        },
        "id": "qwgCVr3gibTw",
        "outputId": "92a45774-a007-4aa7-dc2e-ab206f3f4efc"
      },
      "execution_count": null,
      "outputs": [
        {
          "output_type": "execute_result",
          "data": {
            "text/plain": [
              "['8888888888']"
            ]
          },
          "metadata": {},
          "execution_count": 12
        }
      ]
    },
    {
      "cell_type": "code",
      "source": [
        "pattern_2 = '\\(\\d{3}\\)-\\d{3}-\\d{4}'\n",
        "matches = re.findall(pattern_2,chat_2)\n",
        "matches"
      ],
      "metadata": {
        "colab": {
          "base_uri": "https://localhost:8080/"
        },
        "id": "suS-9pVCirfi",
        "outputId": "0dfc547c-0327-40b3-f488-93f1a8984427"
      },
      "execution_count": null,
      "outputs": [
        {
          "output_type": "execute_result",
          "data": {
            "text/plain": [
              "['(123)-456-9845']"
            ]
          },
          "metadata": {},
          "execution_count": 13
        }
      ]
    },
    {
      "cell_type": "code",
      "source": [
        "pattern = pattern_1 or pattern_2\n",
        "matches = re.findall(pattern,chat_3)\n",
        "matches"
      ],
      "metadata": {
        "colab": {
          "base_uri": "https://localhost:8080/"
        },
        "id": "k1foc7OAjotj",
        "outputId": "04731b10-12e5-4cf4-bcde-8f55414fb611"
      },
      "execution_count": null,
      "outputs": [
        {
          "output_type": "execute_result",
          "data": {
            "text/plain": [
              "['8888888888']"
            ]
          },
          "metadata": {},
          "execution_count": 16
        }
      ]
    },
    {
      "cell_type": "code",
      "source": [
        "pattern = '\\d{10}|\\(\\d{3}\\)-\\d{3}-\\d{4}'\n",
        "matches = re.findall(pattern,chat_3)\n",
        "matches.append(re.findall(pattern,chat_2)[0])\n",
        "matches"
      ],
      "metadata": {
        "colab": {
          "base_uri": "https://localhost:8080/"
        },
        "id": "GhozzNPzkCnQ",
        "outputId": "ecc41422-9f4a-45ff-9329-4bff0cf3dde1"
      },
      "execution_count": null,
      "outputs": [
        {
          "output_type": "execute_result",
          "data": {
            "text/plain": [
              "['8888888888', '(123)-456-9845']"
            ]
          },
          "metadata": {},
          "execution_count": 23
        }
      ]
    },
    {
      "cell_type": "code",
      "source": [
        "pattern_3 = '[a-z0-9A-Z_]*@[a-z0-9A-Z_]*\\.[a-z0-9A-Z_]*'\n",
        "matches = re.findall(pattern_3,chat_3)\n",
        "matches"
      ],
      "metadata": {
        "colab": {
          "base_uri": "https://localhost:8080/"
        },
        "id": "OmhDqxOMkz1J",
        "outputId": "61351305-a80a-4cfb-8894-bef9ba2597f5"
      },
      "execution_count": null,
      "outputs": [
        {
          "output_type": "execute_result",
          "data": {
            "text/plain": [
              "['89muskanwa@om.boj']"
            ]
          },
          "metadata": {},
          "execution_count": 28
        }
      ]
    },
    {
      "cell_type": "code",
      "source": [
        "pattern_4 = 'order[^\\d]*(\\d*)'\n",
        "matches = re.findall(pattern_4,chat_1)\n",
        "matches"
      ],
      "metadata": {
        "colab": {
          "base_uri": "https://localhost:8080/"
        },
        "id": "8qdw7hs8nFcF",
        "outputId": "05e2e62f-abf2-4d99-bd26-1380b6537c8a"
      },
      "execution_count": null,
      "outputs": [
        {
          "output_type": "execute_result",
          "data": {
            "text/plain": [
              "['12345567']"
            ]
          },
          "metadata": {},
          "execution_count": 33
        }
      ]
    },
    {
      "cell_type": "code",
      "source": [
        "text = '''Personal details\n",
        "Born\tNarendrabhai Damodardas Modi\n",
        "17 September 1950 (age 73)\n",
        "Vadnagar, Bombay State, India\n",
        "Political party\tBharatiya Janata Party\n",
        "Spouse\tJashodaben Modi (m. 1968; estranged)[2]\n",
        "Residence(s)\t7, Lok Kalyan Marg, New Delhi, Delhi, India[a]\n",
        "Alma mater\tDelhi University (BA)\n",
        "Gujarat University (MA)'''"
      ],
      "metadata": {
        "id": "OMRdHtO3oSzS"
      },
      "execution_count": null,
      "outputs": []
    },
    {
      "cell_type": "code",
      "source": [
        "pattern_5 = \"age (\\d+)\"\n",
        "re.findall(pattern,text)"
      ],
      "metadata": {
        "colab": {
          "base_uri": "https://localhost:8080/"
        },
        "id": "gL-hJAoBqL13",
        "outputId": "1345bda2-876e-477d-ce82-2950d75d7b7e"
      },
      "execution_count": null,
      "outputs": [
        {
          "output_type": "execute_result",
          "data": {
            "text/plain": [
              "['73']"
            ]
          },
          "metadata": {},
          "execution_count": 36
        }
      ]
    },
    {
      "cell_type": "code",
      "source": [
        "pattern_6 = \"Born(.*)\\n\"\n",
        "re.findall(pattern,text)[0].strip()"
      ],
      "metadata": {
        "colab": {
          "base_uri": "https://localhost:8080/",
          "height": 36
        },
        "id": "ZVhnchu4qxd5",
        "outputId": "f7828600-92a8-4a66-c398-535dac6031ac"
      },
      "execution_count": null,
      "outputs": [
        {
          "output_type": "execute_result",
          "data": {
            "text/plain": [
              "'Narendrabhai Damodardas Modi'"
            ],
            "application/vnd.google.colaboratory.intrinsic+json": {
              "type": "string"
            }
          },
          "metadata": {},
          "execution_count": 44
        }
      ]
    },
    {
      "cell_type": "code",
      "source": [
        "pattern_7 = 'Born.*\\n(.*)\\(age'\n",
        "matches = re.findall(pattern_7,text)\n",
        "matches"
      ],
      "metadata": {
        "colab": {
          "base_uri": "https://localhost:8080/"
        },
        "id": "9cR00poGqvUC",
        "outputId": "1ff58eb6-9feb-4c68-a783-9992bd8a7087"
      },
      "execution_count": null,
      "outputs": [
        {
          "output_type": "execute_result",
          "data": {
            "text/plain": [
              "['17 September 1950 ']"
            ]
          },
          "metadata": {},
          "execution_count": 46
        }
      ]
    },
    {
      "cell_type": "code",
      "source": [
        "pattern_8 = '\\(age.*\\n(.*)'\n",
        "matches = re.findall(pattern_8,text)\n",
        "matches"
      ],
      "metadata": {
        "colab": {
          "base_uri": "https://localhost:8080/"
        },
        "id": "Kkfi4Ibusx8H",
        "outputId": "0f4d0a6d-75eb-46f7-9fed-e272797d33a4"
      },
      "execution_count": null,
      "outputs": [
        {
          "output_type": "execute_result",
          "data": {
            "text/plain": [
              "['Vadnagar, Bombay State, India']"
            ]
          },
          "metadata": {},
          "execution_count": 48
        }
      ]
    },
    {
      "cell_type": "code",
      "source": [
        "def get_pattern_match(pattern,text):\n",
        "  matches = re.findall(pattern,text)\n",
        "  if matches :\n",
        "    return matches[0]"
      ],
      "metadata": {
        "id": "cUywjer9tKNe"
      },
      "execution_count": null,
      "outputs": []
    },
    {
      "cell_type": "code",
      "source": [
        "def get_personal_info(text):\n",
        "  age = get_pattern_match('age (\\d+)',text)\n",
        "  full_name  = get_pattern_match('Born(.*)\\n',text)\n",
        "  birth_date = get_pattern_match('Born.*\\n(.*)\\(age',text)\n",
        "  birth_place = get_pattern_match('\\(age.*\\n(.*)',text)\n",
        "  return {\n",
        "      'age' : int(age),\n",
        "      'name' : full_name.strip(),\n",
        "      'birth_date' : birth_date.strip(),\n",
        "      'birth_place' : birth_place.strip()\n",
        "  }"
      ],
      "metadata": {
        "id": "GIrs-R5GtaFb"
      },
      "execution_count": null,
      "outputs": []
    },
    {
      "cell_type": "code",
      "source": [
        "get_personal_info(text)"
      ],
      "metadata": {
        "colab": {
          "base_uri": "https://localhost:8080/"
        },
        "id": "qrjMHqIgvN2e",
        "outputId": "a45966fd-a598-49c0-e599-c352cec330c8"
      },
      "execution_count": null,
      "outputs": [
        {
          "output_type": "execute_result",
          "data": {
            "text/plain": [
              "{'age': 73,\n",
              " 'name': 'Narendrabhai Damodardas Modi',\n",
              " 'birth_date': '17 September 1950',\n",
              " 'birth_place': 'Vadnagar, Bombay State, India'}"
            ]
          },
          "metadata": {},
          "execution_count": 59
        }
      ]
    },
    {
      "cell_type": "code",
      "source": [
        "text_2 = '''Born\tTaylor Alison Swift\n",
        "December 13, 1989 (age 34)\n",
        "West Reading, Pennsylvania, US\n",
        "Occupations\n",
        "Singer-songwriterproducerdirectorbusinesswomanactress\n",
        "Years active\t2004–present\n",
        "Works\n",
        "Albumssinglessongsvideosperformances\n",
        "Relatives\n",
        "Austin Swift (brother)\n",
        "Marjorie Finlay (grandmother)'''\n"
      ],
      "metadata": {
        "id": "RTexB9hVvyZ0"
      },
      "execution_count": null,
      "outputs": []
    },
    {
      "cell_type": "code",
      "source": [
        "get_personal_info(text_2)"
      ],
      "metadata": {
        "colab": {
          "base_uri": "https://localhost:8080/"
        },
        "id": "XKBW1r9cwlOg",
        "outputId": "7951b6bc-9346-4689-f780-db80b10a6647"
      },
      "execution_count": null,
      "outputs": [
        {
          "output_type": "execute_result",
          "data": {
            "text/plain": [
              "{'age': 34,\n",
              " 'name': 'Taylor Alison Swift',\n",
              " 'birth_date': 'December 13, 1989',\n",
              " 'birth_place': 'West Reading, Pennsylvania, US'}"
            ]
          },
          "metadata": {},
          "execution_count": 61
        }
      ]
    }
  ]
}